{
 "cells": [
  {
   "cell_type": "markdown",
   "metadata": {
    "id": "4T5dCtwYXFS0"
   },
   "source": [
    "# **MÓDULO 25 - Operações Básicas SQL**"
   ]
  },
  {
   "cell_type": "markdown",
   "metadata": {
    "id": "tGub_MhcXTfu"
   },
   "source": [
    "Para nossa atividade inicial de SQL trabalharemos com uma base de vendas.\n",
    "Abaixo temos o ambiente de preparo para trabalharmos com o SQL lite."
   ]
  },
  {
   "cell_type": "code",
   "execution_count": null,
   "metadata": {
    "id": "eQtWi0CfXCPn"
   },
   "outputs": [],
   "source": [
    "import sqlite3 #Importando a biblioteca necessária\n",
    "import pandas as pd"
   ]
  },
  {
   "cell_type": "code",
   "execution_count": null,
   "metadata": {
    "id": "yKsW2EEpXQTK"
   },
   "outputs": [],
   "source": [
    "df_vendas = pd.read_csv(\"TB_VENDAS_TAREFA.csv\", delimiter=';')"
   ]
  },
  {
   "cell_type": "code",
   "execution_count": null,
   "metadata": {
    "colab": {
     "base_uri": "https://localhost:8080/"
    },
    "id": "vbdvMKZgXtT5",
    "outputId": "aa99ea0f-70a5-40d2-c1c8-3230f04491b7"
   },
   "outputs": [
    {
     "data": {
      "text/plain": [
       "24"
      ]
     },
     "execution_count": 3,
     "metadata": {},
     "output_type": "execute_result"
    }
   ],
   "source": [
    "conn = sqlite3.connect(':memory:')\n",
    "df_vendas.to_sql('tb_vendas', conn, index=False, if_exists='replace')"
   ]
  },
  {
   "cell_type": "code",
   "execution_count": null,
   "metadata": {
    "id": "Z3-elg3aXuiM"
   },
   "outputs": [],
   "source": [
    "def run_query(query):\n",
    "    return pd.read_sql_query(query, conn)"
   ]
  },
  {
   "cell_type": "markdown",
   "metadata": {
    "id": "Z_EFXuNLXz7m"
   },
   "source": [
    "# 1) Faça uma consulta que retorne os nomes dos produtos distintos que temos na base de venda.\n"
   ]
  },
  {
   "cell_type": "code",
   "execution_count": 3,
   "metadata": {
    "id": "RXZK6kTcZ4BR"
   },
   "outputs": [
    {
     "name": "stdout",
     "output_type": "stream",
     "text": [
      "    PRODUTO\n",
      "0  CAMISETA\n",
      "1     CALCA\n",
      "2   BERMUDA\n",
      "3   VESTIDO\n",
      "4      MEIA\n"
     ]
    }
   ],
   "source": [
    "import sqlite3  # Importando a biblioteca necessária\n",
    "import pandas as pd\n",
    "\n",
    "# Carregando o arquivo CSV\n",
    "df_vendas = pd.read_csv(\"TB_VENDAS_TAREFA.csv\", delimiter=';')\n",
    "\n",
    "# Conectando ao banco de dados SQLite em memória\n",
    "conn = sqlite3.connect(':memory:')\n",
    "\n",
    "# Carregando o DataFrame no banco de dados SQLite\n",
    "df_vendas.to_sql('tb_vendas', conn, index=False, if_exists='replace')\n",
    "\n",
    "# Definindo a função run_query\n",
    "def run_query(query):\n",
    "    return pd.read_sql_query(query, conn)\n",
    "\n",
    "# Consulta 1: Retornar os nomes dos produtos distintos\n",
    "query = \"\"\"\n",
    "SELECT DISTINCT PRODUTO\n",
    "FROM tb_vendas;\n",
    "\"\"\"\n",
    "result_df = run_query(query)\n",
    "print(result_df)"
   ]
  },
  {
   "cell_type": "markdown",
   "metadata": {
    "id": "i0m1rdHk1kHc"
   },
   "source": [
    "# 2) Faça uma consulta que retorne a contagem dos clientes distintos que temos na nossa base, não esqueça de renomear sua coluna.\n",
    "\n",
    "Dica: Você pode usar o distinct dentro do count()"
   ]
  },
  {
   "cell_type": "code",
   "execution_count": 4,
   "metadata": {
    "id": "uDGHdqIwZ72P"
   },
   "outputs": [
    {
     "name": "stdout",
     "output_type": "stream",
     "text": [
      "   total_clientes_distintos\n",
      "0                        22\n"
     ]
    }
   ],
   "source": [
    "query = \"\"\"\n",
    "SELECT COUNT(DISTINCT ID_CLIENTE) AS total_clientes_distintos\n",
    "FROM tb_vendas;\n",
    "\"\"\"\n",
    "result_df = run_query(query)\n",
    "print(result_df)"
   ]
  },
  {
   "cell_type": "markdown",
   "metadata": {
    "id": "OvDezkJ516jd"
   },
   "source": [
    "# 3) Faça uma consulta que retorne uma coluna com os produtos distintos e o valor_unid de cada produto. Porém apenas para produtos onde o valor_unid é maior ou igual a 50 reais."
   ]
  },
  {
   "cell_type": "code",
   "execution_count": 5,
   "metadata": {
    "id": "_Feprb8JZ9Cg"
   },
   "outputs": [
    {
     "name": "stdout",
     "output_type": "stream",
     "text": [
      "   PRODUTO VALOR_UNID\n",
      "0    CALCA       89,9\n",
      "1  BERMUDA       79,5\n",
      "2  VESTIDO        102\n"
     ]
    }
   ],
   "source": [
    "query = \"\"\"\n",
    "SELECT DISTINCT PRODUTO, VALOR_UNID\n",
    "FROM tb_vendas\n",
    "WHERE CAST(REPLACE(VALOR_UNID, ',', '.') AS FLOAT) >= 50;\n",
    "\"\"\"\n",
    "result_df = run_query(query)\n",
    "print(result_df)"
   ]
  },
  {
   "cell_type": "markdown",
   "metadata": {
    "id": "jcxg6MuX2c61"
   },
   "source": [
    "# [DESAFIO] 4) Faça uma consulta que retorne o ID das compras e o valor total gasto nessa compra (Valor_unidade X Unidades) das 5 compras com mais valor total gasto."
   ]
  },
  {
   "cell_type": "code",
   "execution_count": 6,
   "metadata": {
    "id": "rtmlv-MyZ99R"
   },
   "outputs": [
    {
     "name": "stdout",
     "output_type": "stream",
     "text": [
      "   ID_COMPRA  valor_total\n",
      "0       1267        204.0\n",
      "1       1253        179.8\n",
      "2       1255        179.8\n",
      "3       1257        179.8\n",
      "4       1262        179.8\n"
     ]
    }
   ],
   "source": [
    "query = \"\"\"\n",
    "SELECT ID_COMPRA, \n",
    "       (CAST(REPLACE(VALOR_UNID, ',', '.') AS FLOAT) * UNIDADES) AS valor_total\n",
    "FROM tb_vendas\n",
    "ORDER BY valor_total DESC\n",
    "LIMIT 5;\n",
    "\"\"\"\n",
    "result_df = run_query(query)\n",
    "print(result_df)"
   ]
  },
  {
   "cell_type": "markdown",
   "metadata": {
    "id": "NJXkUmwH3EkG"
   },
   "source": [
    "# 5) Faça uma consulta que retorne os produtos e a média do preço da unidade dos produtos, ordenando do maior para o menor."
   ]
  },
  {
   "cell_type": "code",
   "execution_count": 9,
   "metadata": {
    "id": "el35t_f8Z_-j"
   },
   "outputs": [
    {
     "name": "stdout",
     "output_type": "stream",
     "text": [
      "    PRODUTO  media_valor_unid\n",
      "0   VESTIDO             102.0\n",
      "1     CALCA              89.9\n",
      "2   BERMUDA              79.5\n",
      "3  CAMISETA              34.5\n",
      "4      MEIA              25.9\n"
     ]
    }
   ],
   "source": [
    "query = \"\"\"\n",
    "SELECT PRODUTO, \n",
    "       AVG(CAST(REPLACE(VALOR_UNID, ',', '.') AS FLOAT)) AS media_valor_unid\n",
    "FROM tb_vendas\n",
    "GROUP BY PRODUTO\n",
    "ORDER BY media_valor_unid DESC;\n",
    "\"\"\"\n",
    "result_df = run_query(query)\n",
    "print(result_df)"
   ]
  },
  {
   "cell_type": "markdown",
   "metadata": {
    "id": "KR1f3qbB3s8D"
   },
   "source": [
    "# 6) Faça uma consulta que retorne o id dos 3 clientes da base de vendas que mais relalizaram compras e a quantidade de compras realizadas."
   ]
  },
  {
   "cell_type": "code",
   "execution_count": 8,
   "metadata": {
    "id": "ZLZ8mkXjaA-f"
   },
   "outputs": [
    {
     "name": "stdout",
     "output_type": "stream",
     "text": [
      "   ID_CLIENTE  total_compras\n",
      "0        9425              2\n",
      "1        9081              2\n",
      "2        9801              1\n"
     ]
    }
   ],
   "source": [
    "query = \"\"\"\n",
    "SELECT ID_CLIENTE, COUNT(ID_COMPRA) AS total_compras\n",
    "FROM tb_vendas\n",
    "GROUP BY ID_CLIENTE\n",
    "ORDER BY total_compras DESC\n",
    "LIMIT 3;\n",
    "\"\"\"\n",
    "result_df = run_query(query)\n",
    "print(result_df)"
   ]
  },
  {
   "cell_type": "code",
   "execution_count": null,
   "metadata": {},
   "outputs": [],
   "source": []
  }
 ],
 "metadata": {
  "colab": {
   "provenance": []
  },
  "kernelspec": {
   "display_name": "Python 3 (ipykernel)",
   "language": "python",
   "name": "python3"
  },
  "language_info": {
   "codemirror_mode": {
    "name": "ipython",
    "version": 3
   },
   "file_extension": ".py",
   "mimetype": "text/x-python",
   "name": "python",
   "nbconvert_exporter": "python",
   "pygments_lexer": "ipython3",
   "version": "3.12.4"
  }
 },
 "nbformat": 4,
 "nbformat_minor": 4
}
